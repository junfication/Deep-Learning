{
 "cells": [
  {
   "cell_type": "code",
   "execution_count": 1,
   "metadata": {},
   "outputs": [],
   "source": [
    "import tensorflow as tf"
   ]
  },
  {
   "cell_type": "code",
   "execution_count": 2,
   "metadata": {},
   "outputs": [],
   "source": [
    "import numpy as np"
   ]
  },
  {
   "cell_type": "code",
   "execution_count": 3,
   "metadata": {},
   "outputs": [],
   "source": [
    "from tensorflow.examples.tutorials.mnist import input_data"
   ]
  },
  {
   "cell_type": "code",
   "execution_count": 4,
   "metadata": {},
   "outputs": [],
   "source": [
    "from tensorflow.contrib.layers import fully_connected, conv2d, max_pool2d, dropout"
   ]
  },
  {
   "cell_type": "code",
   "execution_count": 5,
   "metadata": {},
   "outputs": [
    {
     "name": "stdout",
     "output_type": "stream",
     "text": [
      "WARNING:tensorflow:From <ipython-input-5-319879c4c296>:1: read_data_sets (from tensorflow.contrib.learn.python.learn.datasets.mnist) is deprecated and will be removed in a future version.\n",
      "Instructions for updating:\n",
      "Please use alternatives such as official/mnist/dataset.py from tensorflow/models.\n",
      "WARNING:tensorflow:From /Users/limjunze/opt/anaconda3/envs/tfdeeplearning/lib/python3.6/site-packages/tensorflow_core/contrib/learn/python/learn/datasets/mnist.py:260: maybe_download (from tensorflow.contrib.learn.python.learn.datasets.base) is deprecated and will be removed in a future version.\n",
      "Instructions for updating:\n",
      "Please write your own downloading logic.\n",
      "WARNING:tensorflow:From /Users/limjunze/opt/anaconda3/envs/tfdeeplearning/lib/python3.6/site-packages/tensorflow_core/contrib/learn/python/learn/datasets/mnist.py:262: extract_images (from tensorflow.contrib.learn.python.learn.datasets.mnist) is deprecated and will be removed in a future version.\n",
      "Instructions for updating:\n",
      "Please use tf.data to implement this functionality.\n",
      "Extracting MNIST_data/train-images-idx3-ubyte.gz\n",
      "WARNING:tensorflow:From /Users/limjunze/opt/anaconda3/envs/tfdeeplearning/lib/python3.6/site-packages/tensorflow_core/contrib/learn/python/learn/datasets/mnist.py:267: extract_labels (from tensorflow.contrib.learn.python.learn.datasets.mnist) is deprecated and will be removed in a future version.\n",
      "Instructions for updating:\n",
      "Please use tf.data to implement this functionality.\n",
      "Extracting MNIST_data/train-labels-idx1-ubyte.gz\n",
      "WARNING:tensorflow:From /Users/limjunze/opt/anaconda3/envs/tfdeeplearning/lib/python3.6/site-packages/tensorflow_core/contrib/learn/python/learn/datasets/mnist.py:110: dense_to_one_hot (from tensorflow.contrib.learn.python.learn.datasets.mnist) is deprecated and will be removed in a future version.\n",
      "Instructions for updating:\n",
      "Please use tf.one_hot on tensors.\n",
      "Extracting MNIST_data/t10k-images-idx3-ubyte.gz\n",
      "Extracting MNIST_data/t10k-labels-idx1-ubyte.gz\n",
      "WARNING:tensorflow:From /Users/limjunze/opt/anaconda3/envs/tfdeeplearning/lib/python3.6/site-packages/tensorflow_core/contrib/learn/python/learn/datasets/mnist.py:290: DataSet.__init__ (from tensorflow.contrib.learn.python.learn.datasets.mnist) is deprecated and will be removed in a future version.\n",
      "Instructions for updating:\n",
      "Please use alternatives such as official/mnist/dataset.py from tensorflow/models.\n"
     ]
    }
   ],
   "source": [
    "mnist = input_data.read_data_sets('MNIST_data/', one_hot=True)"
   ]
  },
  {
   "cell_type": "code",
   "execution_count": 6,
   "metadata": {},
   "outputs": [
    {
     "data": {
      "text/plain": [
       "(10000, 784)"
      ]
     },
     "execution_count": 6,
     "metadata": {},
     "output_type": "execute_result"
    }
   ],
   "source": [
    "mnist.test.images.shape"
   ]
  },
  {
   "cell_type": "code",
   "execution_count": 7,
   "metadata": {},
   "outputs": [
    {
     "data": {
      "text/plain": [
       "(10000, 10)"
      ]
     },
     "execution_count": 7,
     "metadata": {},
     "output_type": "execute_result"
    }
   ],
   "source": [
    "mnist.test.labels.shape"
   ]
  },
  {
   "cell_type": "code",
   "execution_count": 8,
   "metadata": {},
   "outputs": [],
   "source": [
    "train_data = mnist.train.images"
   ]
  },
  {
   "cell_type": "code",
   "execution_count": 9,
   "metadata": {},
   "outputs": [],
   "source": [
    "train_label = mnist.train.labels"
   ]
  },
  {
   "cell_type": "code",
   "execution_count": 10,
   "metadata": {},
   "outputs": [],
   "source": [
    "test_data = mnist.test.images"
   ]
  },
  {
   "cell_type": "code",
   "execution_count": 11,
   "metadata": {},
   "outputs": [],
   "source": [
    "test_label = mnist.test.labels"
   ]
  },
  {
   "cell_type": "code",
   "execution_count": 12,
   "metadata": {},
   "outputs": [],
   "source": [
    "num_inputs = 784\n",
    "num_outputs = 10\n",
    "batch_size = 100\n",
    "num_hidden1 = 32\n",
    "num_hidden2 = 64\n",
    "learning_rate = 0.001\n",
    "epochs = 1"
   ]
  },
  {
   "cell_type": "code",
   "execution_count": 13,
   "metadata": {},
   "outputs": [],
   "source": [
    "X = tf.placeholder(tf.float32, shape=[None, 784])"
   ]
  },
  {
   "cell_type": "code",
   "execution_count": 14,
   "metadata": {},
   "outputs": [],
   "source": [
    "y = tf.placeholder(tf.float32, shape=[None, 10])"
   ]
  },
  {
   "cell_type": "code",
   "execution_count": 15,
   "metadata": {},
   "outputs": [],
   "source": [
    "image_x = tf.reshape(X, shape=[-1, 28, 28, 1])"
   ]
  },
  {
   "cell_type": "code",
   "execution_count": 16,
   "metadata": {},
   "outputs": [],
   "source": [
    "drop_off = tf.placeholder(tf.float32)"
   ]
  },
  {
   "cell_type": "code",
   "execution_count": 17,
   "metadata": {},
   "outputs": [
    {
     "name": "stdout",
     "output_type": "stream",
     "text": [
      "WARNING:tensorflow:From /Users/limjunze/opt/anaconda3/envs/tfdeeplearning/lib/python3.6/site-packages/tensorflow_core/contrib/layers/python/layers/layers.py:1057: Layer.apply (from tensorflow.python.keras.engine.base_layer) is deprecated and will be removed in a future version.\n",
      "Instructions for updating:\n",
      "Please use `layer.__call__` method instead.\n"
     ]
    }
   ],
   "source": [
    "hidden_1 = conv2d(image_x, num_hidden1, [5,5], activation_fn=tf.nn.relu)"
   ]
  },
  {
   "cell_type": "code",
   "execution_count": 18,
   "metadata": {},
   "outputs": [],
   "source": [
    "maxpool_1 = max_pool2d(hidden_1, [2,2], stride=[2,2])"
   ]
  },
  {
   "cell_type": "code",
   "execution_count": 19,
   "metadata": {},
   "outputs": [],
   "source": [
    "hidden_2 = conv2d(maxpool_1, num_hidden2, [5,5], activation_fn=tf.nn.relu)"
   ]
  },
  {
   "cell_type": "code",
   "execution_count": 20,
   "metadata": {},
   "outputs": [],
   "source": [
    "maxpool_2 = max_pool2d(hidden_2, [2,2], stride=[2,2])"
   ]
  },
  {
   "cell_type": "code",
   "execution_count": 21,
   "metadata": {},
   "outputs": [],
   "source": [
    "fully_connected_1 = fully_connected(tf.reshape(maxpool_2, shape=[-1, 7*7*64]), 1024, activation_fn=tf.nn.relu)"
   ]
  },
  {
   "cell_type": "code",
   "execution_count": 22,
   "metadata": {},
   "outputs": [],
   "source": [
    "dropout_1 = dropout(fully_connected_1, drop_off)"
   ]
  },
  {
   "cell_type": "code",
   "execution_count": 23,
   "metadata": {},
   "outputs": [],
   "source": [
    "output = fully_connected(dropout_1, num_outputs, activation_fn=tf.nn.sigmoid)"
   ]
  },
  {
   "cell_type": "code",
   "execution_count": 24,
   "metadata": {},
   "outputs": [
    {
     "name": "stdout",
     "output_type": "stream",
     "text": [
      "WARNING:tensorflow:From <ipython-input-24-16737115452d>:1: softmax_cross_entropy_with_logits (from tensorflow.python.ops.nn_ops) is deprecated and will be removed in a future version.\n",
      "Instructions for updating:\n",
      "\n",
      "Future major versions of TensorFlow will allow gradients to flow\n",
      "into the labels input on backprop by default.\n",
      "\n",
      "See `tf.nn.softmax_cross_entropy_with_logits_v2`.\n",
      "\n"
     ]
    }
   ],
   "source": [
    "loss = tf.nn.softmax_cross_entropy_with_logits(labels=y, logits=output)"
   ]
  },
  {
   "cell_type": "code",
   "execution_count": 25,
   "metadata": {},
   "outputs": [],
   "source": [
    "optimizer = tf.train.AdamOptimizer(learning_rate)"
   ]
  },
  {
   "cell_type": "code",
   "execution_count": 26,
   "metadata": {},
   "outputs": [],
   "source": [
    "train = optimizer.minimize(loss)"
   ]
  },
  {
   "cell_type": "code",
   "execution_count": 27,
   "metadata": {},
   "outputs": [],
   "source": [
    "num_batches = train_data.shape[0] // batch_size"
   ]
  },
  {
   "cell_type": "code",
   "execution_count": 28,
   "metadata": {},
   "outputs": [
    {
     "data": {
      "text/plain": [
       "550"
      ]
     },
     "execution_count": 28,
     "metadata": {},
     "output_type": "execute_result"
    }
   ],
   "source": [
    "num_batches"
   ]
  },
  {
   "cell_type": "code",
   "execution_count": 29,
   "metadata": {},
   "outputs": [],
   "source": [
    "init = tf.global_variables_initializer()"
   ]
  },
  {
   "cell_type": "code",
   "execution_count": 30,
   "metadata": {},
   "outputs": [],
   "source": [
    "converter = tf.argmax(y, 1)"
   ]
  },
  {
   "cell_type": "code",
   "execution_count": 31,
   "metadata": {},
   "outputs": [
    {
     "name": "stdout",
     "output_type": "stream",
     "text": [
      "0 of 550 batches, 0 of 1 epochs\n",
      "1 of 550 batches, 0 of 1 epochs\n",
      "2 of 550 batches, 0 of 1 epochs\n",
      "3 of 550 batches, 0 of 1 epochs\n",
      "4 of 550 batches, 0 of 1 epochs\n",
      "5 of 550 batches, 0 of 1 epochs\n",
      "6 of 550 batches, 0 of 1 epochs\n",
      "7 of 550 batches, 0 of 1 epochs\n",
      "8 of 550 batches, 0 of 1 epochs\n",
      "9 of 550 batches, 0 of 1 epochs\n",
      "10 of 550 batches, 0 of 1 epochs\n",
      "11 of 550 batches, 0 of 1 epochs\n",
      "12 of 550 batches, 0 of 1 epochs\n",
      "13 of 550 batches, 0 of 1 epochs\n",
      "14 of 550 batches, 0 of 1 epochs\n",
      "15 of 550 batches, 0 of 1 epochs\n",
      "16 of 550 batches, 0 of 1 epochs\n",
      "17 of 550 batches, 0 of 1 epochs\n",
      "18 of 550 batches, 0 of 1 epochs\n",
      "19 of 550 batches, 0 of 1 epochs\n",
      "20 of 550 batches, 0 of 1 epochs\n",
      "21 of 550 batches, 0 of 1 epochs\n",
      "22 of 550 batches, 0 of 1 epochs\n",
      "23 of 550 batches, 0 of 1 epochs\n",
      "24 of 550 batches, 0 of 1 epochs\n",
      "25 of 550 batches, 0 of 1 epochs\n",
      "26 of 550 batches, 0 of 1 epochs\n",
      "27 of 550 batches, 0 of 1 epochs\n",
      "28 of 550 batches, 0 of 1 epochs\n",
      "29 of 550 batches, 0 of 1 epochs\n",
      "30 of 550 batches, 0 of 1 epochs\n",
      "31 of 550 batches, 0 of 1 epochs\n",
      "32 of 550 batches, 0 of 1 epochs\n",
      "33 of 550 batches, 0 of 1 epochs\n",
      "34 of 550 batches, 0 of 1 epochs\n",
      "35 of 550 batches, 0 of 1 epochs\n",
      "36 of 550 batches, 0 of 1 epochs\n",
      "37 of 550 batches, 0 of 1 epochs\n",
      "38 of 550 batches, 0 of 1 epochs\n",
      "39 of 550 batches, 0 of 1 epochs\n",
      "40 of 550 batches, 0 of 1 epochs\n",
      "41 of 550 batches, 0 of 1 epochs\n",
      "42 of 550 batches, 0 of 1 epochs\n",
      "43 of 550 batches, 0 of 1 epochs\n",
      "44 of 550 batches, 0 of 1 epochs\n",
      "45 of 550 batches, 0 of 1 epochs\n",
      "46 of 550 batches, 0 of 1 epochs\n",
      "47 of 550 batches, 0 of 1 epochs\n",
      "48 of 550 batches, 0 of 1 epochs\n",
      "49 of 550 batches, 0 of 1 epochs\n",
      "50 of 550 batches, 0 of 1 epochs\n",
      "51 of 550 batches, 0 of 1 epochs\n",
      "52 of 550 batches, 0 of 1 epochs\n",
      "53 of 550 batches, 0 of 1 epochs\n",
      "54 of 550 batches, 0 of 1 epochs\n",
      "55 of 550 batches, 0 of 1 epochs\n",
      "56 of 550 batches, 0 of 1 epochs\n",
      "57 of 550 batches, 0 of 1 epochs\n",
      "58 of 550 batches, 0 of 1 epochs\n",
      "59 of 550 batches, 0 of 1 epochs\n",
      "60 of 550 batches, 0 of 1 epochs\n",
      "61 of 550 batches, 0 of 1 epochs\n",
      "62 of 550 batches, 0 of 1 epochs\n",
      "63 of 550 batches, 0 of 1 epochs\n",
      "64 of 550 batches, 0 of 1 epochs\n",
      "65 of 550 batches, 0 of 1 epochs\n",
      "66 of 550 batches, 0 of 1 epochs\n",
      "67 of 550 batches, 0 of 1 epochs\n",
      "68 of 550 batches, 0 of 1 epochs\n",
      "69 of 550 batches, 0 of 1 epochs\n",
      "70 of 550 batches, 0 of 1 epochs\n",
      "71 of 550 batches, 0 of 1 epochs\n",
      "72 of 550 batches, 0 of 1 epochs\n",
      "73 of 550 batches, 0 of 1 epochs\n",
      "74 of 550 batches, 0 of 1 epochs\n",
      "75 of 550 batches, 0 of 1 epochs\n",
      "76 of 550 batches, 0 of 1 epochs\n",
      "77 of 550 batches, 0 of 1 epochs\n",
      "78 of 550 batches, 0 of 1 epochs\n",
      "79 of 550 batches, 0 of 1 epochs\n",
      "80 of 550 batches, 0 of 1 epochs\n",
      "81 of 550 batches, 0 of 1 epochs\n",
      "82 of 550 batches, 0 of 1 epochs\n",
      "83 of 550 batches, 0 of 1 epochs\n",
      "84 of 550 batches, 0 of 1 epochs\n",
      "85 of 550 batches, 0 of 1 epochs\n",
      "86 of 550 batches, 0 of 1 epochs\n",
      "87 of 550 batches, 0 of 1 epochs\n",
      "88 of 550 batches, 0 of 1 epochs\n",
      "89 of 550 batches, 0 of 1 epochs\n",
      "90 of 550 batches, 0 of 1 epochs\n",
      "91 of 550 batches, 0 of 1 epochs\n",
      "92 of 550 batches, 0 of 1 epochs\n",
      "93 of 550 batches, 0 of 1 epochs\n",
      "94 of 550 batches, 0 of 1 epochs\n",
      "95 of 550 batches, 0 of 1 epochs\n",
      "96 of 550 batches, 0 of 1 epochs\n",
      "97 of 550 batches, 0 of 1 epochs\n",
      "98 of 550 batches, 0 of 1 epochs\n",
      "99 of 550 batches, 0 of 1 epochs\n",
      "100 of 550 batches, 0 of 1 epochs\n",
      "101 of 550 batches, 0 of 1 epochs\n",
      "102 of 550 batches, 0 of 1 epochs\n",
      "103 of 550 batches, 0 of 1 epochs\n",
      "104 of 550 batches, 0 of 1 epochs\n",
      "105 of 550 batches, 0 of 1 epochs\n",
      "106 of 550 batches, 0 of 1 epochs\n",
      "107 of 550 batches, 0 of 1 epochs\n",
      "108 of 550 batches, 0 of 1 epochs\n",
      "109 of 550 batches, 0 of 1 epochs\n",
      "110 of 550 batches, 0 of 1 epochs\n",
      "111 of 550 batches, 0 of 1 epochs\n",
      "112 of 550 batches, 0 of 1 epochs\n",
      "113 of 550 batches, 0 of 1 epochs\n",
      "114 of 550 batches, 0 of 1 epochs\n",
      "115 of 550 batches, 0 of 1 epochs\n",
      "116 of 550 batches, 0 of 1 epochs\n",
      "117 of 550 batches, 0 of 1 epochs\n",
      "118 of 550 batches, 0 of 1 epochs\n",
      "119 of 550 batches, 0 of 1 epochs\n",
      "120 of 550 batches, 0 of 1 epochs\n",
      "121 of 550 batches, 0 of 1 epochs\n",
      "122 of 550 batches, 0 of 1 epochs\n",
      "123 of 550 batches, 0 of 1 epochs\n",
      "124 of 550 batches, 0 of 1 epochs\n",
      "125 of 550 batches, 0 of 1 epochs\n",
      "126 of 550 batches, 0 of 1 epochs\n",
      "127 of 550 batches, 0 of 1 epochs\n",
      "128 of 550 batches, 0 of 1 epochs\n",
      "129 of 550 batches, 0 of 1 epochs\n",
      "130 of 550 batches, 0 of 1 epochs\n",
      "131 of 550 batches, 0 of 1 epochs\n",
      "132 of 550 batches, 0 of 1 epochs\n",
      "133 of 550 batches, 0 of 1 epochs\n",
      "134 of 550 batches, 0 of 1 epochs\n",
      "135 of 550 batches, 0 of 1 epochs\n",
      "136 of 550 batches, 0 of 1 epochs\n",
      "137 of 550 batches, 0 of 1 epochs\n",
      "138 of 550 batches, 0 of 1 epochs\n",
      "139 of 550 batches, 0 of 1 epochs\n",
      "140 of 550 batches, 0 of 1 epochs\n",
      "141 of 550 batches, 0 of 1 epochs\n",
      "142 of 550 batches, 0 of 1 epochs\n",
      "143 of 550 batches, 0 of 1 epochs\n",
      "144 of 550 batches, 0 of 1 epochs\n",
      "145 of 550 batches, 0 of 1 epochs\n",
      "146 of 550 batches, 0 of 1 epochs\n",
      "147 of 550 batches, 0 of 1 epochs\n",
      "148 of 550 batches, 0 of 1 epochs\n",
      "149 of 550 batches, 0 of 1 epochs\n",
      "150 of 550 batches, 0 of 1 epochs\n",
      "151 of 550 batches, 0 of 1 epochs\n",
      "152 of 550 batches, 0 of 1 epochs\n",
      "153 of 550 batches, 0 of 1 epochs\n",
      "154 of 550 batches, 0 of 1 epochs\n",
      "155 of 550 batches, 0 of 1 epochs\n",
      "156 of 550 batches, 0 of 1 epochs\n",
      "157 of 550 batches, 0 of 1 epochs\n",
      "158 of 550 batches, 0 of 1 epochs\n",
      "159 of 550 batches, 0 of 1 epochs\n",
      "160 of 550 batches, 0 of 1 epochs\n",
      "161 of 550 batches, 0 of 1 epochs\n",
      "162 of 550 batches, 0 of 1 epochs\n",
      "163 of 550 batches, 0 of 1 epochs\n",
      "164 of 550 batches, 0 of 1 epochs\n",
      "165 of 550 batches, 0 of 1 epochs\n",
      "166 of 550 batches, 0 of 1 epochs\n",
      "167 of 550 batches, 0 of 1 epochs\n",
      "168 of 550 batches, 0 of 1 epochs\n",
      "169 of 550 batches, 0 of 1 epochs\n",
      "170 of 550 batches, 0 of 1 epochs\n",
      "171 of 550 batches, 0 of 1 epochs\n",
      "172 of 550 batches, 0 of 1 epochs\n",
      "173 of 550 batches, 0 of 1 epochs\n",
      "174 of 550 batches, 0 of 1 epochs\n",
      "175 of 550 batches, 0 of 1 epochs\n",
      "176 of 550 batches, 0 of 1 epochs\n",
      "177 of 550 batches, 0 of 1 epochs\n",
      "178 of 550 batches, 0 of 1 epochs\n",
      "179 of 550 batches, 0 of 1 epochs\n",
      "180 of 550 batches, 0 of 1 epochs\n",
      "181 of 550 batches, 0 of 1 epochs\n",
      "182 of 550 batches, 0 of 1 epochs\n",
      "183 of 550 batches, 0 of 1 epochs\n",
      "184 of 550 batches, 0 of 1 epochs\n",
      "185 of 550 batches, 0 of 1 epochs\n",
      "186 of 550 batches, 0 of 1 epochs\n",
      "187 of 550 batches, 0 of 1 epochs\n",
      "188 of 550 batches, 0 of 1 epochs\n",
      "189 of 550 batches, 0 of 1 epochs\n",
      "190 of 550 batches, 0 of 1 epochs\n",
      "191 of 550 batches, 0 of 1 epochs\n",
      "192 of 550 batches, 0 of 1 epochs\n",
      "193 of 550 batches, 0 of 1 epochs\n",
      "194 of 550 batches, 0 of 1 epochs\n",
      "195 of 550 batches, 0 of 1 epochs\n",
      "196 of 550 batches, 0 of 1 epochs\n",
      "197 of 550 batches, 0 of 1 epochs\n",
      "198 of 550 batches, 0 of 1 epochs\n",
      "199 of 550 batches, 0 of 1 epochs\n",
      "200 of 550 batches, 0 of 1 epochs\n",
      "201 of 550 batches, 0 of 1 epochs\n",
      "202 of 550 batches, 0 of 1 epochs\n",
      "203 of 550 batches, 0 of 1 epochs\n",
      "204 of 550 batches, 0 of 1 epochs\n",
      "205 of 550 batches, 0 of 1 epochs\n",
      "206 of 550 batches, 0 of 1 epochs\n",
      "207 of 550 batches, 0 of 1 epochs\n",
      "208 of 550 batches, 0 of 1 epochs\n",
      "209 of 550 batches, 0 of 1 epochs\n",
      "210 of 550 batches, 0 of 1 epochs\n",
      "211 of 550 batches, 0 of 1 epochs\n",
      "212 of 550 batches, 0 of 1 epochs\n",
      "213 of 550 batches, 0 of 1 epochs\n",
      "214 of 550 batches, 0 of 1 epochs\n",
      "215 of 550 batches, 0 of 1 epochs\n",
      "216 of 550 batches, 0 of 1 epochs\n",
      "217 of 550 batches, 0 of 1 epochs\n",
      "218 of 550 batches, 0 of 1 epochs\n",
      "219 of 550 batches, 0 of 1 epochs\n",
      "220 of 550 batches, 0 of 1 epochs\n",
      "221 of 550 batches, 0 of 1 epochs\n",
      "222 of 550 batches, 0 of 1 epochs\n",
      "223 of 550 batches, 0 of 1 epochs\n",
      "224 of 550 batches, 0 of 1 epochs\n",
      "225 of 550 batches, 0 of 1 epochs\n",
      "226 of 550 batches, 0 of 1 epochs\n",
      "227 of 550 batches, 0 of 1 epochs\n",
      "228 of 550 batches, 0 of 1 epochs\n",
      "229 of 550 batches, 0 of 1 epochs\n",
      "230 of 550 batches, 0 of 1 epochs\n",
      "231 of 550 batches, 0 of 1 epochs\n",
      "232 of 550 batches, 0 of 1 epochs\n",
      "233 of 550 batches, 0 of 1 epochs\n",
      "234 of 550 batches, 0 of 1 epochs\n",
      "235 of 550 batches, 0 of 1 epochs\n",
      "236 of 550 batches, 0 of 1 epochs\n",
      "237 of 550 batches, 0 of 1 epochs\n",
      "238 of 550 batches, 0 of 1 epochs\n",
      "239 of 550 batches, 0 of 1 epochs\n",
      "240 of 550 batches, 0 of 1 epochs\n",
      "241 of 550 batches, 0 of 1 epochs\n",
      "242 of 550 batches, 0 of 1 epochs\n",
      "243 of 550 batches, 0 of 1 epochs\n",
      "244 of 550 batches, 0 of 1 epochs\n",
      "245 of 550 batches, 0 of 1 epochs\n",
      "246 of 550 batches, 0 of 1 epochs\n"
     ]
    },
    {
     "name": "stdout",
     "output_type": "stream",
     "text": [
      "247 of 550 batches, 0 of 1 epochs\n",
      "248 of 550 batches, 0 of 1 epochs\n",
      "249 of 550 batches, 0 of 1 epochs\n",
      "250 of 550 batches, 0 of 1 epochs\n",
      "251 of 550 batches, 0 of 1 epochs\n",
      "252 of 550 batches, 0 of 1 epochs\n",
      "253 of 550 batches, 0 of 1 epochs\n",
      "254 of 550 batches, 0 of 1 epochs\n",
      "255 of 550 batches, 0 of 1 epochs\n",
      "256 of 550 batches, 0 of 1 epochs\n",
      "257 of 550 batches, 0 of 1 epochs\n",
      "258 of 550 batches, 0 of 1 epochs\n",
      "259 of 550 batches, 0 of 1 epochs\n",
      "260 of 550 batches, 0 of 1 epochs\n",
      "261 of 550 batches, 0 of 1 epochs\n",
      "262 of 550 batches, 0 of 1 epochs\n",
      "263 of 550 batches, 0 of 1 epochs\n",
      "264 of 550 batches, 0 of 1 epochs\n",
      "265 of 550 batches, 0 of 1 epochs\n",
      "266 of 550 batches, 0 of 1 epochs\n",
      "267 of 550 batches, 0 of 1 epochs\n",
      "268 of 550 batches, 0 of 1 epochs\n",
      "269 of 550 batches, 0 of 1 epochs\n",
      "270 of 550 batches, 0 of 1 epochs\n",
      "271 of 550 batches, 0 of 1 epochs\n",
      "272 of 550 batches, 0 of 1 epochs\n",
      "273 of 550 batches, 0 of 1 epochs\n",
      "274 of 550 batches, 0 of 1 epochs\n",
      "275 of 550 batches, 0 of 1 epochs\n",
      "276 of 550 batches, 0 of 1 epochs\n",
      "277 of 550 batches, 0 of 1 epochs\n",
      "278 of 550 batches, 0 of 1 epochs\n",
      "279 of 550 batches, 0 of 1 epochs\n",
      "280 of 550 batches, 0 of 1 epochs\n",
      "281 of 550 batches, 0 of 1 epochs\n",
      "282 of 550 batches, 0 of 1 epochs\n",
      "283 of 550 batches, 0 of 1 epochs\n",
      "284 of 550 batches, 0 of 1 epochs\n",
      "285 of 550 batches, 0 of 1 epochs\n",
      "286 of 550 batches, 0 of 1 epochs\n",
      "287 of 550 batches, 0 of 1 epochs\n",
      "288 of 550 batches, 0 of 1 epochs\n",
      "289 of 550 batches, 0 of 1 epochs\n",
      "290 of 550 batches, 0 of 1 epochs\n",
      "291 of 550 batches, 0 of 1 epochs\n",
      "292 of 550 batches, 0 of 1 epochs\n",
      "293 of 550 batches, 0 of 1 epochs\n",
      "294 of 550 batches, 0 of 1 epochs\n",
      "295 of 550 batches, 0 of 1 epochs\n",
      "296 of 550 batches, 0 of 1 epochs\n",
      "297 of 550 batches, 0 of 1 epochs\n",
      "298 of 550 batches, 0 of 1 epochs\n",
      "299 of 550 batches, 0 of 1 epochs\n",
      "300 of 550 batches, 0 of 1 epochs\n",
      "301 of 550 batches, 0 of 1 epochs\n",
      "302 of 550 batches, 0 of 1 epochs\n",
      "303 of 550 batches, 0 of 1 epochs\n",
      "304 of 550 batches, 0 of 1 epochs\n",
      "305 of 550 batches, 0 of 1 epochs\n",
      "306 of 550 batches, 0 of 1 epochs\n",
      "307 of 550 batches, 0 of 1 epochs\n",
      "308 of 550 batches, 0 of 1 epochs\n",
      "309 of 550 batches, 0 of 1 epochs\n",
      "310 of 550 batches, 0 of 1 epochs\n",
      "311 of 550 batches, 0 of 1 epochs\n",
      "312 of 550 batches, 0 of 1 epochs\n",
      "313 of 550 batches, 0 of 1 epochs\n",
      "314 of 550 batches, 0 of 1 epochs\n",
      "315 of 550 batches, 0 of 1 epochs\n",
      "316 of 550 batches, 0 of 1 epochs\n",
      "317 of 550 batches, 0 of 1 epochs\n",
      "318 of 550 batches, 0 of 1 epochs\n",
      "319 of 550 batches, 0 of 1 epochs\n",
      "320 of 550 batches, 0 of 1 epochs\n",
      "321 of 550 batches, 0 of 1 epochs\n",
      "322 of 550 batches, 0 of 1 epochs\n",
      "323 of 550 batches, 0 of 1 epochs\n",
      "324 of 550 batches, 0 of 1 epochs\n",
      "325 of 550 batches, 0 of 1 epochs\n",
      "326 of 550 batches, 0 of 1 epochs\n",
      "327 of 550 batches, 0 of 1 epochs\n",
      "328 of 550 batches, 0 of 1 epochs\n",
      "329 of 550 batches, 0 of 1 epochs\n",
      "330 of 550 batches, 0 of 1 epochs\n",
      "331 of 550 batches, 0 of 1 epochs\n",
      "332 of 550 batches, 0 of 1 epochs\n",
      "333 of 550 batches, 0 of 1 epochs\n",
      "334 of 550 batches, 0 of 1 epochs\n",
      "335 of 550 batches, 0 of 1 epochs\n",
      "336 of 550 batches, 0 of 1 epochs\n",
      "337 of 550 batches, 0 of 1 epochs\n",
      "338 of 550 batches, 0 of 1 epochs\n",
      "339 of 550 batches, 0 of 1 epochs\n",
      "340 of 550 batches, 0 of 1 epochs\n",
      "341 of 550 batches, 0 of 1 epochs\n",
      "342 of 550 batches, 0 of 1 epochs\n",
      "343 of 550 batches, 0 of 1 epochs\n",
      "344 of 550 batches, 0 of 1 epochs\n",
      "345 of 550 batches, 0 of 1 epochs\n",
      "346 of 550 batches, 0 of 1 epochs\n",
      "347 of 550 batches, 0 of 1 epochs\n",
      "348 of 550 batches, 0 of 1 epochs\n",
      "349 of 550 batches, 0 of 1 epochs\n",
      "350 of 550 batches, 0 of 1 epochs\n",
      "351 of 550 batches, 0 of 1 epochs\n",
      "352 of 550 batches, 0 of 1 epochs\n",
      "353 of 550 batches, 0 of 1 epochs\n",
      "354 of 550 batches, 0 of 1 epochs\n",
      "355 of 550 batches, 0 of 1 epochs\n",
      "356 of 550 batches, 0 of 1 epochs\n",
      "357 of 550 batches, 0 of 1 epochs\n",
      "358 of 550 batches, 0 of 1 epochs\n",
      "359 of 550 batches, 0 of 1 epochs\n",
      "360 of 550 batches, 0 of 1 epochs\n",
      "361 of 550 batches, 0 of 1 epochs\n",
      "362 of 550 batches, 0 of 1 epochs\n",
      "363 of 550 batches, 0 of 1 epochs\n",
      "364 of 550 batches, 0 of 1 epochs\n",
      "365 of 550 batches, 0 of 1 epochs\n",
      "366 of 550 batches, 0 of 1 epochs\n",
      "367 of 550 batches, 0 of 1 epochs\n",
      "368 of 550 batches, 0 of 1 epochs\n",
      "369 of 550 batches, 0 of 1 epochs\n",
      "370 of 550 batches, 0 of 1 epochs\n",
      "371 of 550 batches, 0 of 1 epochs\n",
      "372 of 550 batches, 0 of 1 epochs\n",
      "373 of 550 batches, 0 of 1 epochs\n",
      "374 of 550 batches, 0 of 1 epochs\n",
      "375 of 550 batches, 0 of 1 epochs\n",
      "376 of 550 batches, 0 of 1 epochs\n",
      "377 of 550 batches, 0 of 1 epochs\n",
      "378 of 550 batches, 0 of 1 epochs\n",
      "379 of 550 batches, 0 of 1 epochs\n",
      "380 of 550 batches, 0 of 1 epochs\n",
      "381 of 550 batches, 0 of 1 epochs\n",
      "382 of 550 batches, 0 of 1 epochs\n",
      "383 of 550 batches, 0 of 1 epochs\n",
      "384 of 550 batches, 0 of 1 epochs\n",
      "385 of 550 batches, 0 of 1 epochs\n",
      "386 of 550 batches, 0 of 1 epochs\n",
      "387 of 550 batches, 0 of 1 epochs\n",
      "388 of 550 batches, 0 of 1 epochs\n",
      "389 of 550 batches, 0 of 1 epochs\n",
      "390 of 550 batches, 0 of 1 epochs\n",
      "391 of 550 batches, 0 of 1 epochs\n",
      "392 of 550 batches, 0 of 1 epochs\n",
      "393 of 550 batches, 0 of 1 epochs\n",
      "394 of 550 batches, 0 of 1 epochs\n",
      "395 of 550 batches, 0 of 1 epochs\n",
      "396 of 550 batches, 0 of 1 epochs\n",
      "397 of 550 batches, 0 of 1 epochs\n",
      "398 of 550 batches, 0 of 1 epochs\n",
      "399 of 550 batches, 0 of 1 epochs\n",
      "400 of 550 batches, 0 of 1 epochs\n",
      "401 of 550 batches, 0 of 1 epochs\n",
      "402 of 550 batches, 0 of 1 epochs\n",
      "403 of 550 batches, 0 of 1 epochs\n",
      "404 of 550 batches, 0 of 1 epochs\n",
      "405 of 550 batches, 0 of 1 epochs\n",
      "406 of 550 batches, 0 of 1 epochs\n",
      "407 of 550 batches, 0 of 1 epochs\n",
      "408 of 550 batches, 0 of 1 epochs\n",
      "409 of 550 batches, 0 of 1 epochs\n",
      "410 of 550 batches, 0 of 1 epochs\n",
      "411 of 550 batches, 0 of 1 epochs\n",
      "412 of 550 batches, 0 of 1 epochs\n",
      "413 of 550 batches, 0 of 1 epochs\n",
      "414 of 550 batches, 0 of 1 epochs\n",
      "415 of 550 batches, 0 of 1 epochs\n",
      "416 of 550 batches, 0 of 1 epochs\n",
      "417 of 550 batches, 0 of 1 epochs\n",
      "418 of 550 batches, 0 of 1 epochs\n",
      "419 of 550 batches, 0 of 1 epochs\n",
      "420 of 550 batches, 0 of 1 epochs\n",
      "421 of 550 batches, 0 of 1 epochs\n",
      "422 of 550 batches, 0 of 1 epochs\n",
      "423 of 550 batches, 0 of 1 epochs\n",
      "424 of 550 batches, 0 of 1 epochs\n",
      "425 of 550 batches, 0 of 1 epochs\n",
      "426 of 550 batches, 0 of 1 epochs\n",
      "427 of 550 batches, 0 of 1 epochs\n",
      "428 of 550 batches, 0 of 1 epochs\n",
      "429 of 550 batches, 0 of 1 epochs\n",
      "430 of 550 batches, 0 of 1 epochs\n",
      "431 of 550 batches, 0 of 1 epochs\n",
      "432 of 550 batches, 0 of 1 epochs\n",
      "433 of 550 batches, 0 of 1 epochs\n",
      "434 of 550 batches, 0 of 1 epochs\n",
      "435 of 550 batches, 0 of 1 epochs\n",
      "436 of 550 batches, 0 of 1 epochs\n",
      "437 of 550 batches, 0 of 1 epochs\n",
      "438 of 550 batches, 0 of 1 epochs\n",
      "439 of 550 batches, 0 of 1 epochs\n",
      "440 of 550 batches, 0 of 1 epochs\n",
      "441 of 550 batches, 0 of 1 epochs\n",
      "442 of 550 batches, 0 of 1 epochs\n",
      "443 of 550 batches, 0 of 1 epochs\n",
      "444 of 550 batches, 0 of 1 epochs\n",
      "445 of 550 batches, 0 of 1 epochs\n",
      "446 of 550 batches, 0 of 1 epochs\n",
      "447 of 550 batches, 0 of 1 epochs\n",
      "448 of 550 batches, 0 of 1 epochs\n",
      "449 of 550 batches, 0 of 1 epochs\n",
      "450 of 550 batches, 0 of 1 epochs\n",
      "451 of 550 batches, 0 of 1 epochs\n",
      "452 of 550 batches, 0 of 1 epochs\n",
      "453 of 550 batches, 0 of 1 epochs\n",
      "454 of 550 batches, 0 of 1 epochs\n",
      "455 of 550 batches, 0 of 1 epochs\n",
      "456 of 550 batches, 0 of 1 epochs\n",
      "457 of 550 batches, 0 of 1 epochs\n",
      "458 of 550 batches, 0 of 1 epochs\n",
      "459 of 550 batches, 0 of 1 epochs\n",
      "460 of 550 batches, 0 of 1 epochs\n",
      "461 of 550 batches, 0 of 1 epochs\n",
      "462 of 550 batches, 0 of 1 epochs\n",
      "463 of 550 batches, 0 of 1 epochs\n",
      "464 of 550 batches, 0 of 1 epochs\n",
      "465 of 550 batches, 0 of 1 epochs\n",
      "466 of 550 batches, 0 of 1 epochs\n",
      "467 of 550 batches, 0 of 1 epochs\n",
      "468 of 550 batches, 0 of 1 epochs\n",
      "469 of 550 batches, 0 of 1 epochs\n",
      "470 of 550 batches, 0 of 1 epochs\n",
      "471 of 550 batches, 0 of 1 epochs\n",
      "472 of 550 batches, 0 of 1 epochs\n",
      "473 of 550 batches, 0 of 1 epochs\n",
      "474 of 550 batches, 0 of 1 epochs\n",
      "475 of 550 batches, 0 of 1 epochs\n",
      "476 of 550 batches, 0 of 1 epochs\n",
      "477 of 550 batches, 0 of 1 epochs\n",
      "478 of 550 batches, 0 of 1 epochs\n",
      "479 of 550 batches, 0 of 1 epochs\n",
      "480 of 550 batches, 0 of 1 epochs\n",
      "481 of 550 batches, 0 of 1 epochs\n",
      "482 of 550 batches, 0 of 1 epochs\n",
      "483 of 550 batches, 0 of 1 epochs\n",
      "484 of 550 batches, 0 of 1 epochs\n",
      "485 of 550 batches, 0 of 1 epochs\n",
      "486 of 550 batches, 0 of 1 epochs\n",
      "487 of 550 batches, 0 of 1 epochs\n",
      "488 of 550 batches, 0 of 1 epochs\n",
      "489 of 550 batches, 0 of 1 epochs\n",
      "490 of 550 batches, 0 of 1 epochs\n"
     ]
    },
    {
     "name": "stdout",
     "output_type": "stream",
     "text": [
      "491 of 550 batches, 0 of 1 epochs\n",
      "492 of 550 batches, 0 of 1 epochs\n",
      "493 of 550 batches, 0 of 1 epochs\n",
      "494 of 550 batches, 0 of 1 epochs\n",
      "495 of 550 batches, 0 of 1 epochs\n",
      "496 of 550 batches, 0 of 1 epochs\n",
      "497 of 550 batches, 0 of 1 epochs\n",
      "498 of 550 batches, 0 of 1 epochs\n",
      "499 of 550 batches, 0 of 1 epochs\n",
      "500 of 550 batches, 0 of 1 epochs\n",
      "501 of 550 batches, 0 of 1 epochs\n",
      "502 of 550 batches, 0 of 1 epochs\n",
      "503 of 550 batches, 0 of 1 epochs\n",
      "504 of 550 batches, 0 of 1 epochs\n",
      "505 of 550 batches, 0 of 1 epochs\n",
      "506 of 550 batches, 0 of 1 epochs\n",
      "507 of 550 batches, 0 of 1 epochs\n",
      "508 of 550 batches, 0 of 1 epochs\n",
      "509 of 550 batches, 0 of 1 epochs\n",
      "510 of 550 batches, 0 of 1 epochs\n",
      "511 of 550 batches, 0 of 1 epochs\n",
      "512 of 550 batches, 0 of 1 epochs\n",
      "513 of 550 batches, 0 of 1 epochs\n",
      "514 of 550 batches, 0 of 1 epochs\n",
      "515 of 550 batches, 0 of 1 epochs\n",
      "516 of 550 batches, 0 of 1 epochs\n",
      "517 of 550 batches, 0 of 1 epochs\n",
      "518 of 550 batches, 0 of 1 epochs\n",
      "519 of 550 batches, 0 of 1 epochs\n",
      "520 of 550 batches, 0 of 1 epochs\n",
      "521 of 550 batches, 0 of 1 epochs\n",
      "522 of 550 batches, 0 of 1 epochs\n",
      "523 of 550 batches, 0 of 1 epochs\n",
      "524 of 550 batches, 0 of 1 epochs\n",
      "525 of 550 batches, 0 of 1 epochs\n",
      "526 of 550 batches, 0 of 1 epochs\n",
      "527 of 550 batches, 0 of 1 epochs\n",
      "528 of 550 batches, 0 of 1 epochs\n",
      "529 of 550 batches, 0 of 1 epochs\n",
      "530 of 550 batches, 0 of 1 epochs\n",
      "531 of 550 batches, 0 of 1 epochs\n",
      "532 of 550 batches, 0 of 1 epochs\n",
      "533 of 550 batches, 0 of 1 epochs\n",
      "534 of 550 batches, 0 of 1 epochs\n",
      "535 of 550 batches, 0 of 1 epochs\n",
      "536 of 550 batches, 0 of 1 epochs\n",
      "537 of 550 batches, 0 of 1 epochs\n",
      "538 of 550 batches, 0 of 1 epochs\n",
      "539 of 550 batches, 0 of 1 epochs\n",
      "540 of 550 batches, 0 of 1 epochs\n",
      "541 of 550 batches, 0 of 1 epochs\n",
      "542 of 550 batches, 0 of 1 epochs\n",
      "543 of 550 batches, 0 of 1 epochs\n",
      "544 of 550 batches, 0 of 1 epochs\n",
      "545 of 550 batches, 0 of 1 epochs\n",
      "546 of 550 batches, 0 of 1 epochs\n",
      "547 of 550 batches, 0 of 1 epochs\n",
      "548 of 550 batches, 0 of 1 epochs\n",
      "549 of 550 batches, 0 of 1 epochs\n"
     ]
    }
   ],
   "source": [
    "with tf.Session() as sess:\n",
    "    sess.run(init)\n",
    "    for e in range(epochs):\n",
    "        for i in range(num_batches):\n",
    "            x_input, y_input = mnist.train.next_batch(batch_size)\n",
    "            sess.run(train, feed_dict={X: x_input, y: y_input, drop_off:0.5})\n",
    "            print(\"{} of {} batches, {} of {} epochs\".format(i, num_batches, e, epochs))\n",
    "    res = sess.run(output, feed_dict={X: test_data, drop_off:1.0})\n",
    "    y_pred = sess.run(converter, feed_dict={y: res})\n",
    "    y_true = sess.run(converter, feed_dict={y: test_label})"
   ]
  },
  {
   "cell_type": "code",
   "execution_count": 32,
   "metadata": {},
   "outputs": [],
   "source": [
    "from sklearn.metrics import accuracy_score"
   ]
  },
  {
   "cell_type": "code",
   "execution_count": 33,
   "metadata": {},
   "outputs": [
    {
     "data": {
      "text/plain": [
       "array([7, 2, 1, ..., 4, 5, 6])"
      ]
     },
     "execution_count": 33,
     "metadata": {},
     "output_type": "execute_result"
    }
   ],
   "source": [
    "y_pred"
   ]
  },
  {
   "cell_type": "code",
   "execution_count": 34,
   "metadata": {},
   "outputs": [
    {
     "data": {
      "text/plain": [
       "array([7, 2, 1, ..., 4, 5, 6])"
      ]
     },
     "execution_count": 34,
     "metadata": {},
     "output_type": "execute_result"
    }
   ],
   "source": [
    "y_true"
   ]
  },
  {
   "cell_type": "code",
   "execution_count": 35,
   "metadata": {},
   "outputs": [
    {
     "data": {
      "text/plain": [
       "0.9839"
      ]
     },
     "execution_count": 35,
     "metadata": {},
     "output_type": "execute_result"
    }
   ],
   "source": [
    "accuracy_score(y_true, y_pred)"
   ]
  },
  {
   "cell_type": "code",
   "execution_count": null,
   "metadata": {},
   "outputs": [],
   "source": []
  }
 ],
 "metadata": {
  "kernelspec": {
   "display_name": "Python 3",
   "language": "python",
   "name": "python3"
  },
  "language_info": {
   "codemirror_mode": {
    "name": "ipython",
    "version": 3
   },
   "file_extension": ".py",
   "mimetype": "text/x-python",
   "name": "python",
   "nbconvert_exporter": "python",
   "pygments_lexer": "ipython3",
   "version": "3.6.12"
  }
 },
 "nbformat": 4,
 "nbformat_minor": 4
}
