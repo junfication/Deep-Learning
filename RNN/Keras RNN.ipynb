{
 "cells": [
  {
   "cell_type": "code",
   "execution_count": 1,
   "metadata": {},
   "outputs": [],
   "source": [
    "import pandas as pd\n",
    "import matplotlib.pyplot as plt\n",
    "%matplotlib inline"
   ]
  },
  {
   "cell_type": "code",
   "execution_count": 2,
   "metadata": {},
   "outputs": [],
   "source": [
    "df = pd.read_csv('monthly-milk-production.csv', usecols=[1]).values"
   ]
  },
  {
   "cell_type": "code",
   "execution_count": 3,
   "metadata": {},
   "outputs": [],
   "source": [
    "import numpy as np"
   ]
  },
  {
   "cell_type": "code",
   "execution_count": 4,
   "metadata": {},
   "outputs": [],
   "source": [
    "def create_dataset(dataset, look_back=1):\n",
    "    dataX, dataY = [], []\n",
    "    for i in range(len(dataset)-look_back-1):\n",
    "        a = dataset[i:(i+look_back), 0]\n",
    "        dataX.append(a)\n",
    "        dataY.append(dataset[i + look_back, 0])\n",
    "    return np.array(dataX), np.array(dataY)"
   ]
  },
  {
   "cell_type": "code",
   "execution_count": 5,
   "metadata": {},
   "outputs": [],
   "source": [
    "dataset_x, dataset_y = create_dataset(df, 12)"
   ]
  },
  {
   "cell_type": "code",
   "execution_count": 6,
   "metadata": {},
   "outputs": [],
   "source": [
    "train_x = dataset_x[0:155]\n",
    "train_y = dataset_y[0:155]\n",
    "test_x = dataset_x[-12:-11]\n",
    "test_y = dataset_y[-12:]"
   ]
  },
  {
   "cell_type": "code",
   "execution_count": 7,
   "metadata": {},
   "outputs": [],
   "source": [
    "from sklearn.preprocessing import MinMaxScaler"
   ]
  },
  {
   "cell_type": "code",
   "execution_count": 8,
   "metadata": {},
   "outputs": [],
   "source": [
    "scaler = MinMaxScaler()"
   ]
  },
  {
   "cell_type": "code",
   "execution_count": 9,
   "metadata": {},
   "outputs": [],
   "source": [
    "train_set = scaler.fit_transform(train_x)"
   ]
  },
  {
   "cell_type": "code",
   "execution_count": 10,
   "metadata": {},
   "outputs": [],
   "source": [
    "test_set = scaler.transform(test_x)"
   ]
  },
  {
   "cell_type": "code",
   "execution_count": 11,
   "metadata": {},
   "outputs": [],
   "source": [
    "train_set = train_x.reshape(155,12,1)"
   ]
  },
  {
   "cell_type": "code",
   "execution_count": 12,
   "metadata": {},
   "outputs": [],
   "source": [
    "test_set = test_x.reshape(1,12,1)"
   ]
  },
  {
   "cell_type": "code",
   "execution_count": 13,
   "metadata": {},
   "outputs": [],
   "source": [
    "from tensorflow.keras.models import Sequential\n",
    "from tensorflow.keras.layers import GRU, Dense"
   ]
  },
  {
   "cell_type": "code",
   "execution_count": 14,
   "metadata": {},
   "outputs": [],
   "source": [
    "neurons = 100"
   ]
  },
  {
   "cell_type": "code",
   "execution_count": 15,
   "metadata": {},
   "outputs": [
    {
     "name": "stdout",
     "output_type": "stream",
     "text": [
      "WARNING:tensorflow:From /Users/limjunze/opt/anaconda3/envs/tfdeeplearning/lib/python3.6/site-packages/tensorflow_core/python/ops/resource_variable_ops.py:1630: calling BaseResourceVariable.__init__ (from tensorflow.python.ops.resource_variable_ops) with constraint is deprecated and will be removed in a future version.\n",
      "Instructions for updating:\n",
      "If using Keras pass *_constraint arguments to layers.\n"
     ]
    }
   ],
   "source": [
    "model = Sequential()\n",
    "\n",
    "model.add(GRU(neurons, activation='relu', input_shape=(12,1)))\n",
    "model.add(Dense(1))\n",
    "model.compile(loss='mse', optimizer='adam')"
   ]
  },
  {
   "cell_type": "code",
   "execution_count": 16,
   "metadata": {
    "scrolled": true
   },
   "outputs": [
    {
     "name": "stdout",
     "output_type": "stream",
     "text": [
      "WARNING:tensorflow:From /Users/limjunze/opt/anaconda3/envs/tfdeeplearning/lib/python3.6/site-packages/tensorflow_core/python/ops/math_grad.py:1424: where (from tensorflow.python.ops.array_ops) is deprecated and will be removed in a future version.\n",
      "Instructions for updating:\n",
      "Use tf.where in 2.0, which has the same broadcast rule as np.where\n",
      "Train on 155 samples\n",
      "Epoch 1/100\n",
      "155/155 [==============================] - 1s 9ms/sample - loss: 169016.2974\n",
      "Epoch 2/100\n",
      "155/155 [==============================] - 1s 7ms/sample - loss: 1822.1224\n",
      "Epoch 3/100\n",
      "155/155 [==============================] - 1s 6ms/sample - loss: 1801.7577\n",
      "Epoch 4/100\n",
      "155/155 [==============================] - 1s 6ms/sample - loss: 1658.0965\n",
      "Epoch 5/100\n",
      "155/155 [==============================] - 1s 6ms/sample - loss: 1563.4173\n",
      "Epoch 6/100\n",
      "155/155 [==============================] - 1s 6ms/sample - loss: 1522.7818\n",
      "Epoch 7/100\n",
      "155/155 [==============================] - 1s 6ms/sample - loss: 1333.4337\n",
      "Epoch 8/100\n",
      "155/155 [==============================] - 1s 7ms/sample - loss: 1358.3611\n",
      "Epoch 9/100\n",
      "155/155 [==============================] - 1s 7ms/sample - loss: 1145.6239\n",
      "Epoch 10/100\n",
      "155/155 [==============================] - 1s 7ms/sample - loss: 1200.3290\n",
      "Epoch 11/100\n",
      "155/155 [==============================] - 1s 6ms/sample - loss: 1062.4999\n",
      "Epoch 12/100\n",
      "155/155 [==============================] - 1s 6ms/sample - loss: 1000.7043\n",
      "Epoch 13/100\n",
      "155/155 [==============================] - 1s 6ms/sample - loss: 1069.8623\n",
      "Epoch 14/100\n",
      "155/155 [==============================] - 1s 6ms/sample - loss: 860.3408\n",
      "Epoch 15/100\n",
      "155/155 [==============================] - 1s 6ms/sample - loss: 884.6583\n",
      "Epoch 16/100\n",
      "155/155 [==============================] - 1s 6ms/sample - loss: 783.3547\n",
      "Epoch 17/100\n",
      "155/155 [==============================] - 1s 6ms/sample - loss: 828.5412\n",
      "Epoch 18/100\n",
      "155/155 [==============================] - 1s 6ms/sample - loss: 645.4182\n",
      "Epoch 19/100\n",
      "155/155 [==============================] - 1s 6ms/sample - loss: 738.5065\n",
      "Epoch 20/100\n",
      "155/155 [==============================] - 1s 6ms/sample - loss: 719.4033\n",
      "Epoch 21/100\n",
      "155/155 [==============================] - 1s 6ms/sample - loss: 809.3850\n",
      "Epoch 22/100\n",
      "155/155 [==============================] - 1s 6ms/sample - loss: 844.5630\n",
      "Epoch 23/100\n",
      "155/155 [==============================] - 1s 6ms/sample - loss: 757.1352\n",
      "Epoch 24/100\n",
      "155/155 [==============================] - 1s 6ms/sample - loss: 778.1189\n",
      "Epoch 25/100\n",
      "155/155 [==============================] - 1s 6ms/sample - loss: 662.9629\n",
      "Epoch 26/100\n",
      "155/155 [==============================] - 1s 6ms/sample - loss: 785.5518\n",
      "Epoch 27/100\n",
      "155/155 [==============================] - 1s 6ms/sample - loss: 715.4769\n",
      "Epoch 28/100\n",
      "155/155 [==============================] - 1s 6ms/sample - loss: 661.4392\n",
      "Epoch 29/100\n",
      "155/155 [==============================] - 1s 6ms/sample - loss: 604.0811\n",
      "Epoch 30/100\n",
      "155/155 [==============================] - 1s 6ms/sample - loss: 547.4860\n",
      "Epoch 31/100\n",
      "155/155 [==============================] - 1s 6ms/sample - loss: 560.7170\n",
      "Epoch 32/100\n",
      "155/155 [==============================] - 1s 6ms/sample - loss: 588.5980\n",
      "Epoch 33/100\n",
      "155/155 [==============================] - 1s 6ms/sample - loss: 551.0966\n",
      "Epoch 34/100\n",
      "155/155 [==============================] - 1s 6ms/sample - loss: 606.8836\n",
      "Epoch 35/100\n",
      "155/155 [==============================] - 1s 6ms/sample - loss: 568.2079\n",
      "Epoch 36/100\n",
      "155/155 [==============================] - 1s 6ms/sample - loss: 548.0753\n",
      "Epoch 37/100\n",
      "155/155 [==============================] - 1s 6ms/sample - loss: 589.1742\n",
      "Epoch 38/100\n",
      "155/155 [==============================] - 1s 6ms/sample - loss: 624.2131\n",
      "Epoch 39/100\n",
      "155/155 [==============================] - 1s 6ms/sample - loss: 798.1431\n",
      "Epoch 40/100\n",
      "155/155 [==============================] - 1s 6ms/sample - loss: 690.5378\n",
      "Epoch 41/100\n",
      "155/155 [==============================] - 1s 6ms/sample - loss: 689.7174\n",
      "Epoch 42/100\n",
      "155/155 [==============================] - 1s 6ms/sample - loss: 626.4586\n",
      "Epoch 43/100\n",
      "155/155 [==============================] - 1s 6ms/sample - loss: 553.5456\n",
      "Epoch 44/100\n",
      "155/155 [==============================] - 1s 6ms/sample - loss: 629.7274\n",
      "Epoch 45/100\n",
      "155/155 [==============================] - 1s 6ms/sample - loss: 609.1215\n",
      "Epoch 46/100\n",
      "155/155 [==============================] - 1s 6ms/sample - loss: 515.3779\n",
      "Epoch 47/100\n",
      "155/155 [==============================] - 1s 6ms/sample - loss: 467.8877\n",
      "Epoch 48/100\n",
      "155/155 [==============================] - 1s 6ms/sample - loss: 559.4332\n",
      "Epoch 49/100\n",
      "155/155 [==============================] - 1s 6ms/sample - loss: 547.3735\n",
      "Epoch 50/100\n",
      "155/155 [==============================] - 1s 7ms/sample - loss: 573.8271\n",
      "Epoch 51/100\n",
      "155/155 [==============================] - 1s 7ms/sample - loss: 575.9275\n",
      "Epoch 52/100\n",
      "155/155 [==============================] - 1s 7ms/sample - loss: 515.5963\n",
      "Epoch 53/100\n",
      "155/155 [==============================] - 1s 7ms/sample - loss: 486.9516\n",
      "Epoch 54/100\n",
      "155/155 [==============================] - 1s 7ms/sample - loss: 469.6027\n",
      "Epoch 55/100\n",
      "155/155 [==============================] - 1s 7ms/sample - loss: 465.2325\n",
      "Epoch 56/100\n",
      "155/155 [==============================] - 1s 7ms/sample - loss: 459.8111\n",
      "Epoch 57/100\n",
      "155/155 [==============================] - 1s 7ms/sample - loss: 507.7800\n",
      "Epoch 58/100\n",
      "155/155 [==============================] - 1s 7ms/sample - loss: 467.0041\n",
      "Epoch 59/100\n",
      "155/155 [==============================] - 1s 7ms/sample - loss: 406.2283\n",
      "Epoch 60/100\n",
      "155/155 [==============================] - 1s 7ms/sample - loss: 611.4610\n",
      "Epoch 61/100\n",
      "155/155 [==============================] - 1s 7ms/sample - loss: 418.6548\n",
      "Epoch 62/100\n",
      "155/155 [==============================] - 1s 7ms/sample - loss: 531.8597\n",
      "Epoch 63/100\n",
      "155/155 [==============================] - 1s 7ms/sample - loss: 488.6032\n",
      "Epoch 64/100\n",
      "155/155 [==============================] - 1s 7ms/sample - loss: 505.3633\n",
      "Epoch 65/100\n",
      "155/155 [==============================] - 1s 7ms/sample - loss: 560.8498\n",
      "Epoch 66/100\n",
      "155/155 [==============================] - 1s 7ms/sample - loss: 477.1893\n",
      "Epoch 67/100\n",
      "155/155 [==============================] - 1s 7ms/sample - loss: 435.4988\n",
      "Epoch 68/100\n",
      "155/155 [==============================] - 1s 7ms/sample - loss: 437.0865\n",
      "Epoch 69/100\n",
      "155/155 [==============================] - 1s 7ms/sample - loss: 494.5170\n",
      "Epoch 70/100\n",
      "155/155 [==============================] - 1s 7ms/sample - loss: 452.3287\n",
      "Epoch 71/100\n",
      "155/155 [==============================] - 1s 7ms/sample - loss: 474.6767\n",
      "Epoch 72/100\n",
      "155/155 [==============================] - 1s 7ms/sample - loss: 418.7598\n",
      "Epoch 73/100\n",
      "155/155 [==============================] - 1s 7ms/sample - loss: 467.7453\n",
      "Epoch 74/100\n",
      "155/155 [==============================] - 1s 7ms/sample - loss: 370.0044\n",
      "Epoch 75/100\n",
      "155/155 [==============================] - 1s 7ms/sample - loss: 419.8863\n",
      "Epoch 76/100\n",
      "155/155 [==============================] - 1s 7ms/sample - loss: 468.9779\n",
      "Epoch 77/100\n",
      "155/155 [==============================] - 1s 7ms/sample - loss: 367.9797\n",
      "Epoch 78/100\n",
      "155/155 [==============================] - 1s 7ms/sample - loss: 409.8431\n",
      "Epoch 79/100\n",
      "155/155 [==============================] - 1s 7ms/sample - loss: 462.7563\n",
      "Epoch 80/100\n",
      "155/155 [==============================] - 1s 7ms/sample - loss: 435.7932\n",
      "Epoch 81/100\n",
      "155/155 [==============================] - 1s 7ms/sample - loss: 428.5588\n",
      "Epoch 82/100\n",
      "155/155 [==============================] - 1s 7ms/sample - loss: 401.8415\n",
      "Epoch 83/100\n",
      "155/155 [==============================] - 1s 7ms/sample - loss: 423.2233\n",
      "Epoch 84/100\n",
      "155/155 [==============================] - 1s 7ms/sample - loss: 360.4916\n",
      "Epoch 85/100\n",
      "155/155 [==============================] - 1s 7ms/sample - loss: 413.1098\n",
      "Epoch 86/100\n",
      "155/155 [==============================] - 1s 7ms/sample - loss: 405.7568\n",
      "Epoch 87/100\n",
      "155/155 [==============================] - 1s 7ms/sample - loss: 375.6567\n",
      "Epoch 88/100\n",
      "155/155 [==============================] - 1s 7ms/sample - loss: 345.9331\n",
      "Epoch 89/100\n",
      "155/155 [==============================] - 1s 7ms/sample - loss: 380.1571\n",
      "Epoch 90/100\n"
     ]
    },
    {
     "name": "stdout",
     "output_type": "stream",
     "text": [
      "155/155 [==============================] - 1s 7ms/sample - loss: 310.8186\n",
      "Epoch 91/100\n",
      "155/155 [==============================] - 1s 7ms/sample - loss: 349.1224\n",
      "Epoch 92/100\n",
      "155/155 [==============================] - 1s 7ms/sample - loss: 464.5835\n",
      "Epoch 93/100\n",
      "155/155 [==============================] - 1s 7ms/sample - loss: 460.0079\n",
      "Epoch 94/100\n",
      "155/155 [==============================] - 1s 7ms/sample - loss: 413.1332\n",
      "Epoch 95/100\n",
      "155/155 [==============================] - 1s 7ms/sample - loss: 345.8722\n",
      "Epoch 96/100\n",
      "155/155 [==============================] - 1s 7ms/sample - loss: 375.8753\n",
      "Epoch 97/100\n",
      "155/155 [==============================] - 1s 7ms/sample - loss: 338.4975\n",
      "Epoch 98/100\n",
      "155/155 [==============================] - 1s 7ms/sample - loss: 334.0914\n",
      "Epoch 99/100\n",
      "155/155 [==============================] - 1s 7ms/sample - loss: 375.4658\n",
      "Epoch 100/100\n",
      "155/155 [==============================] - 1s 7ms/sample - loss: 392.5811\n"
     ]
    },
    {
     "data": {
      "text/plain": [
       "<tensorflow.python.keras.callbacks.History at 0x7f8de8abab70>"
      ]
     },
     "execution_count": 16,
     "metadata": {},
     "output_type": "execute_result"
    }
   ],
   "source": [
    "model.fit(x=train_set, y=train_y, epochs=100, batch_size=1)"
   ]
  },
  {
   "cell_type": "code",
   "execution_count": 17,
   "metadata": {},
   "outputs": [],
   "source": [
    "pred = []"
   ]
  },
  {
   "cell_type": "code",
   "execution_count": 18,
   "metadata": {},
   "outputs": [],
   "source": [
    "input_set = test_set\n",
    "for _ in range(12):\n",
    "    tmp = model.predict(x=input_set)\n",
    "    pred.append(tmp)\n",
    "    tmp2 = input_set.tolist()\n",
    "    tmp2[0].append(tmp)\n",
    "    del tmp2[0][0]\n",
    "    tmp2 = np.array(tmp2, dtype='object')\n",
    "    input_set = tmp2"
   ]
  },
  {
   "cell_type": "code",
   "execution_count": 19,
   "metadata": {},
   "outputs": [],
   "source": [
    "pred = np.array(pred, dtype='object').flatten()"
   ]
  },
  {
   "cell_type": "code",
   "execution_count": 20,
   "metadata": {},
   "outputs": [
    {
     "data": {
      "text/plain": [
       "array([792.1012573242188, 812.0210571289062, 792.382568359375,\n",
       "       877.2960205078125, 890.95458984375, 953.1889038085938,\n",
       "       937.0464477539062, 898.4268798828125, 872.7803955078125,\n",
       "       811.1898193359375, 808.651123046875, 773.6380615234375],\n",
       "      dtype=object)"
      ]
     },
     "execution_count": 20,
     "metadata": {},
     "output_type": "execute_result"
    }
   ],
   "source": [
    "pred"
   ]
  },
  {
   "cell_type": "code",
   "execution_count": 21,
   "metadata": {
    "scrolled": true
   },
   "outputs": [
    {
     "data": {
      "text/plain": [
       "array([813., 834., 782., 892., 903., 966., 937., 896., 858., 817., 827.,\n",
       "       797.])"
      ]
     },
     "execution_count": 21,
     "metadata": {},
     "output_type": "execute_result"
    }
   ],
   "source": [
    "test_y"
   ]
  },
  {
   "cell_type": "code",
   "execution_count": 22,
   "metadata": {},
   "outputs": [],
   "source": [
    "from sklearn.metrics import mean_squared_error"
   ]
  },
  {
   "cell_type": "code",
   "execution_count": 23,
   "metadata": {},
   "outputs": [],
   "source": [
    "mse = mean_squared_error(test_y, pred)"
   ]
  },
  {
   "cell_type": "code",
   "execution_count": 24,
   "metadata": {},
   "outputs": [],
   "source": [
    "import math"
   ]
  },
  {
   "cell_type": "code",
   "execution_count": 25,
   "metadata": {},
   "outputs": [
    {
     "data": {
      "text/plain": [
       "14.982278014820011"
      ]
     },
     "execution_count": 25,
     "metadata": {},
     "output_type": "execute_result"
    }
   ],
   "source": [
    "math.sqrt(mse)"
   ]
  },
  {
   "cell_type": "code",
   "execution_count": 26,
   "metadata": {},
   "outputs": [
    {
     "data": {
      "text/plain": [
       "[<matplotlib.lines.Line2D at 0x7f8db826c160>]"
      ]
     },
     "execution_count": 26,
     "metadata": {},
     "output_type": "execute_result"
    },
    {
     "data": {
      "image/png": "[encoded data removed]",
      "text/plain": [
       "<Figure size 432x288 with 1 Axes>"
      ]
     },
     "metadata": {
      "needs_background": "light"
     },
     "output_type": "display_data"
    }
   ],
   "source": [
    "plt.plot(pred, 'r')\n",
    "plt.plot(test_y)"
   ]
  },
  {
   "cell_type": "code",
   "execution_count": null,
   "metadata": {},
   "outputs": [],
   "source": []
  }
 ],
 "metadata": {
  "kernelspec": {
   "display_name": "Python 3",
   "language": "python",
   "name": "python3"
  },
  "language_info": {
   "codemirror_mode": {
    "name": "ipython",
    "version": 3
   },
   "file_extension": ".py",
   "mimetype": "text/x-python",
   "name": "python",
   "nbconvert_exporter": "python",
   "pygments_lexer": "ipython3",
   "version": "3.6.12"
  }
 },
 "nbformat": 4,
 "nbformat_minor": 4
}
